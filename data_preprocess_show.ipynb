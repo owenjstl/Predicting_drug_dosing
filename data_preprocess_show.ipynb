{
  "cells": [
    {
      "cell_type": "code",
      "execution_count": 2,
      "metadata": {
        "colab": {
          "base_uri": "https://localhost:8080/"
        },
        "id": "7F7WiH-S9UsL",
        "outputId": "98e23b04-11fd-495c-9529-faae0c8acb24"
      },
      "outputs": [
        {
          "output_type": "stream",
          "name": "stdout",
          "text": [
            "Collecting pymysql\n",
            "  Downloading PyMySQL-1.1.0-py3-none-any.whl (44 kB)\n",
            "\u001b[?25l     \u001b[90m━━━━━━━━━━━━━━━━━━━━━━━━━━━━━━━━━━━━━━━━\u001b[0m \u001b[32m0.0/44.8 kB\u001b[0m \u001b[31m?\u001b[0m eta \u001b[36m-:--:--\u001b[0m\r\u001b[2K     \u001b[90m━━━━━━━━━━━━━━━━━━━━━━━━━━━━━━━━━━━━━━━━\u001b[0m \u001b[32m44.8/44.8 kB\u001b[0m \u001b[31m1.9 MB/s\u001b[0m eta \u001b[36m0:00:00\u001b[0m\n",
            "\u001b[?25hInstalling collected packages: pymysql\n",
            "Successfully installed pymysql-1.1.0\n"
          ]
        }
      ],
      "source": [
        "!pip install pymysql"
      ]
    },
    {
      "cell_type": "code",
      "execution_count": null,
      "metadata": {
        "id": "eSMFZm4h9JLb"
      },
      "outputs": [],
      "source": [
        "# -*- encoding: utf-8 -*-\n",
        "'''\n",
        "@File      :data_preprocess.ipynb\n",
        "@Description  :Conducted statistical analysis and feature selection, use a piece of data to build LSTM model and test\n",
        "@Time      :2023/05/10\n",
        "@Author     :yaowen\n",
        "@Version    :1.0\n",
        "'''\n",
        "import pandas as pd\n",
        "import numpy as np\n",
        "import pymysql\n",
        "import os\n",
        "import matplotlib.pyplot as plt\n",
        "import warnings\n",
        "import dask.dataframe as dd\n",
        "\n",
        "warnings.filterwarnings('ignore')\n",
        "\n",
        "\n",
        "def dbFecth(Sql, DBconfig):\n",
        "    \"\"\"\n",
        "    @Description:    read my sql database\n",
        "    @Param Sql:     SQL Query\n",
        "    @Param DBconfig:  the information of sql database\n",
        "    @Returns:      dict with columns'name\n",
        "    \"\"\"\n",
        "\n",
        "    conn = pymysql.connect(**DBconfig)\n",
        "    # return dict\n",
        "    cursor = conn.cursor(cursor=pymysql.cursors.DictCursor)\n",
        "    cursor.execute(Sql)\n",
        "    data = cursor.fetchall()\n",
        "    conn.commit()\n",
        "    cursor.close()\n",
        "    conn.close()\n",
        "    return data\n",
        "\n",
        "\n",
        "def dbIns(Sql, DBconfig, DataList):\n",
        "\n",
        "    \"\"\"\n",
        "    @Description:      Insert SQL database\n",
        "    @Param Sql:        SQL Query\n",
        "    @Param DBconfig:   the information of sql database\n",
        "    @Param DataList:   the insert data. The type is a list of tuple elements\n",
        "    @Returns     :\n",
        "    \"\"\"\n",
        "\n",
        "    conn = pymysql.connect(**DBconfig)\n",
        "    cursor = conn.cursor()\n",
        "    with cursor,conn:\n",
        "        # cursor.execute(Sql, DataList)\n",
        "        cursor.executemany(Sql, DataList)\n",
        "        conn.commit()\n",
        "        cursor.close()\n",
        "        conn.cursor()\n",
        "\n",
        "\n",
        "DBconfig = {}\n",
        "\n",
        "\n",
        "\n",
        "sql1 = \"select DATE_FORMAT(subdate(time, interval x minute),'%Y-%m-%d %H:%i') AS time, xxx from xxx where xxx and time BETWEEN '' AND '' order by time desc;\"\n",
        "sql2 = \"SELECT DATE_FORMAT(time,'%Y-%m-%d %H:%i') AS xxx from xxx where xxx and time BETWEEN '' AND '' order by time desc\"\n",
        "\n",
        "data = pd.DataFrame(dbFecth(sql1, DBconfig))\n",
        "dataph = pd.DataFrame(dbFecth(sql2, DBconfig))\n",
        "print(data) #here record the number of data\n",
        "print(dataph)\n",
        "#it will be the time series data\n",
        "# time     feature1 feature2  feature3  feature4  feature5\n",
        "#2023-07-12 09:58  5   6    591.826   53.548  185.998\n"
      ]
    },
    {
      "cell_type": "code",
      "execution_count": null,
      "metadata": {
        "id": "wM7cACuam9hp"
      },
      "outputs": [],
      "source": [
        "# Converts the time column to the date-time type\n",
        "\n",
        "data['time'] = pd.to_datetime(data['time'])\n",
        "dataph['time'] = pd.to_datetime(dataph['time'])\n",
        "datapre= pd.merge(data, dataph, on='time')\n",
        "datapre.iloc[:, 1:] = datapre.iloc[:, 1:].astype(float)\n",
        "datapre = datapre.dropna()\n",
        "datapre.to_csv('data.csv', index=False)\n",
        "print(datapre)\n"
      ]
    },
    {
      "cell_type": "markdown",
      "metadata": {
        "id": "PrQ8_dCisDZg"
      },
      "source": [
        "## Outlier processing: Use statistical tests and box plots to check the data distribution and conduct appropriate processing"
      ]
    },
    {
      "cell_type": "code",
      "execution_count": null,
      "metadata": {
        "id": "Ad1w1nlisC53"
      },
      "outputs": [],
      "source": [
        "statistics = datapre.describe()\n",
        "print(statistics)\n",
        "\n",
        "mean = datapre['target'].mean()\n",
        "std = datapre['target'].std()\n",
        "skewness = datapre['target'].skew()\n",
        "kurtosis = datapre['target'].kurtosis()\n",
        "\n",
        "# print\n",
        "print(\"mean：\", mean)\n",
        "print(\"std：\", std)\n",
        "print(\"skewness：\", skewness)\n",
        "print(\"kurtosis：\", kurtosis)\n",
        "\n"
      ]
    },
    {
      "cell_type": "code",
      "execution_count": null,
      "metadata": {
        "id": "c5oHLiMIzHZh"
      },
      "outputs": [],
      "source": [
        "columns_to_process = ['feature1', 'feature2', 'feature3']\n",
        "\n",
        "# calculate Z-score\n",
        "z_scores = (datapre[columns_to_process] - datapre[columns_to_process].mean()) / datapre[columns_to_process].std()\n",
        "# define the outliers（exZ-score>3 is regarded as outliers）\n",
        "threshold = 3\n",
        "# remove\n",
        "has_outliers = (z_scores.abs() > threshold).any(axis=1)\n",
        "datapre = datapre[~has_outliers]\n",
        "print(datapre)\n"
      ]
    },
    {
      "cell_type": "markdown",
      "metadata": {
        "id": "Q8D7LwS31QYU"
      },
      "source": [
        "## Feature engineering: Some transformation of the original feature: (Sliding average of water onsumption per ton), Different features depending on the business mix and so on."
      ]
    },
    {
      "cell_type": "markdown",
      "source": [
        "### For some reasons, I can't share the detail of here. But I will do something like:\n"
      ],
      "metadata": {
        "id": "kJW8fFlGkj5b"
      }
    },
    {
      "cell_type": "code",
      "source": [
        "#\n",
        "datapre['feature_per'] = datapre['feature1'] / datapre['featuer2']\n",
        "datapre['feature3_mean'] = datapre['feature3'].rolling(1).mean()\n",
        "datapre['feature4'] = datapre['feature4'].apply(lambda x: 1 if x>0 else 0)"
      ],
      "metadata": {
        "id": "cWaCNClTky-F"
      },
      "execution_count": null,
      "outputs": []
    },
    {
      "cell_type": "code",
      "execution_count": null,
      "metadata": {
        "id": "r_EWKLWiI2Or"
      },
      "outputs": [],
      "source": [
        "corr_matrix_raw = datapre.corr()\n",
        "\n",
        "# Display the correlation of the features with feature\n",
        "corr_matrix_raw['feature'].sort_values(ascending=False)"
      ]
    },
    {
      "cell_type": "code",
      "execution_count": null,
      "metadata": {
        "id": "Tj2XbnmX1QAX"
      },
      "outputs": [],
      "source": [
        "from sklearn.preprocessing import StandardScaler, MinMaxScaler, Binarizer, PolynomialFeatures\n",
        "from sklearn.feature_selection import SelectKBest, f_regression\n",
        "\n",
        "def prefeature(datapre):\n",
        "  datapre = datapre.replace([np.inf, -np.inf], np.nan)\n",
        "\n",
        "  # Convert the data type to float64 and ignore the NaN value\n",
        "  columns_to_convert = []\n",
        "  datapre[columns_to_convert] = datapre[columns_to_convert].astype('float', errors='ignore')\n",
        "  datapre = datapre.dropna()\n",
        "\n",
        "  y = datapre[['']]\n",
        "  X = datapre[['']]\n",
        "\n",
        "\n",
        "  # feature scaling\n",
        "  scaler = StandardScaler()\n",
        "  scaled_data = scaler.fit_transform(X)\n",
        "\n",
        "\n",
        "  # Generated polynomial feature\n",
        "  poly = PolynomialFeatures(2)\n",
        "  poly_data = poly.fit_transform(scaled_data)\n",
        "  #print(poly_data)\n",
        "  # feature selection\n",
        "  selector = SelectKBest(f_regression, k=10)\n",
        "  selected_data = selector.fit_transform(poly_data, y)\n",
        "\n",
        "  # Outputs the selected feature column\n",
        "  selected_cols = selector.get_support(indices=True)\n",
        "  print(\"Selected features: \", selected_cols)\n",
        "  print(selected_data)\n",
        "  print(y)\n",
        "  return scaler, poly, selector, selected_data, y\n",
        "\"\"\"\n",
        "Print output\n",
        "Selected features:  [ 2  4  7  9 17 24 30 33 42 43]\n",
        "[[-0.4921934  -0.67566101 -0.84202857 ...  0.56892587  0.70901211\n",
        "   1.15894397]\n",
        " [-0.4921934  -0.57584206 -0.7924826  ...  0.45634481  0.62802867\n",
        "   1.09075032]\n",
        " [-0.4921934  -0.580833   -0.74869779 ...  0.43486839  0.56054838\n",
        "   1.03048616]\n",
        " ...\n",
        " [-2.24777061 -0.88528081 -0.66285652 ...  0.58681416  0.43937877\n",
        "   0.91233671]\n",
        " [-2.24777061 -0.86531702 -0.64154024 ...  0.55513568  0.41157387\n",
        "   0.88299758]\n",
        " [-2.24777061 -0.82039849 -0.62828957 ...  0.51544782  0.39474778\n",
        "   0.86475974]]\n",
        "\"\"\"\n",
        "scaler, poly, selector, selected_data, y = prefeature(datapre)"
      ]
    },
    {
      "cell_type": "code",
      "source": [
        "#!pip install torch==1.8.1+cpu torchvision==0.9.1+cpu torchaudio===0.8.1 -f https://download.pytorch.org/whl/torch_stable.html"
      ],
      "metadata": {
        "id": "ygevdn7Y_59u"
      },
      "execution_count": null,
      "outputs": []
    },
    {
      "cell_type": "code",
      "execution_count": 23,
      "metadata": {
        "id": "C57H1vdyI2lE",
        "colab": {
          "base_uri": "https://localhost:8080/",
          "height": 639
        },
        "outputId": "9e4d6427-212e-454e-f1cb-cb774c6d1740"
      },
      "outputs": [
        {
          "output_type": "stream",
          "name": "stdout",
          "text": [
            "Epoch: 30, Loss: 0.41864126920700073, Train MAE: 0.5024815797805786, Val MAE: 1.3526540994644165, Train RMSE: 0.647024929523468, Val RMSE: 1.5113086700439453\n",
            "Epoch: 60, Loss: 0.3834342062473297, Train MAE: 0.4745267927646637, Val MAE: 0.5379812121391296, Train RMSE: 0.6192206144332886, Val RMSE: 0.6943404674530029\n",
            "Epoch: 90, Loss: 0.38113364577293396, Train MAE: 0.4729118347167969, Val MAE: 0.4597807228565216, Train RMSE: 0.6173602342605591, Val RMSE: 0.605148434638977\n",
            "Epoch: 120, Loss: 0.378785640001297, Train MAE: 0.4719940721988678, Val MAE: 0.4572546184062958, Train RMSE: 0.615455687046051, Val RMSE: 0.6022468209266663\n",
            "Epoch: 150, Loss: 0.3815794587135315, Train MAE: 0.4739360511302948, Val MAE: 0.4571485221385956, Train RMSE: 0.6177211403846741, Val RMSE: 0.6021165251731873\n",
            "Epoch: 180, Loss: 0.382470965385437, Train MAE: 0.4727576673030853, Val MAE: 0.45709577202796936, Train RMSE: 0.6184423565864563, Val RMSE: 0.6020466685295105\n",
            "Epoch: 210, Loss: 0.38081681728363037, Train MAE: 0.47259023785591125, Val MAE: 0.4570721685886383, Train RMSE: 0.6171035766601562, Val RMSE: 0.6020598411560059\n",
            "Epoch: 240, Loss: 0.3806619346141815, Train MAE: 0.47304973006248474, Val MAE: 0.45711320638656616, Train RMSE: 0.6169780492782593, Val RMSE: 0.6020818948745728\n",
            "Epoch: 270, Loss: 0.38444143533706665, Train MAE: 0.47367459535598755, Val MAE: 0.45702826976776123, Train RMSE: 0.6200334429740906, Val RMSE: 0.602057933807373\n",
            "Epoch: 300, Loss: 0.382336288690567, Train MAE: 0.47399988770484924, Val MAE: 0.4570680260658264, Train RMSE: 0.6183334589004517, Val RMSE: 0.6020471453666687\n"
          ]
        },
        {
          "output_type": "display_data",
          "data": {
            "text/plain": [
              "<Figure size 1000x500 with 1 Axes>"
            ],
            "image/png": "[encoded data removed]"
          },
          "metadata": {}
        }
      ],
      "source": [
        "import torch\n",
        "import torch.nn as nn\n",
        "from sklearn.model_selection import train_test_split\n",
        "import matplotlib.pyplot as plt\n",
        "from sklearn.metrics import r2_score, mean_absolute_error, mean_squared_error\n",
        "import torch.nn.functional as F\n",
        "#plt.rcParams['font.sans-serif'] = ['Arial']\n",
        "#plt.rcParams['axes.unicode_minus'] = False\n",
        "plt.rcParams['font.sans-serif'] = ['DejaVu Sans']\n",
        "X_train, X_test, y_train, y_test = train_test_split(selected_data, y, test_size=0.2, shuffle=False)\n",
        "X_train_tensor = torch.from_numpy(X_train).float().unsqueeze(1)  # Add a new dimension\n",
        "y_train_tensor = torch.from_numpy(y_train.values).float().view(-1,1)  # change the shape\n",
        "X_train_tensor, X_val_tensor, y_train_tensor, y_val_tensor = train_test_split(X_train_tensor, y_train_tensor, test_size=0.2, random_state=42)\n",
        "\n",
        "train_losses = []\n",
        "val_losses = []\n",
        "train_mae_scores = []\n",
        "val_mae_scores = []\n",
        "train_rmse_scores = []\n",
        "val_rmse_scores = []\n",
        "# X_train_tensor and X_val_tensor shape: (batch_size, 1, num_features)\n",
        "\n",
        "# define LSTM\n",
        "class LSTMModel(nn.Module):\n",
        "    def __init__(self, input_size, hidden_size, output_size, num_layers):\n",
        "        super(LSTMModel, self).__init__()\n",
        "        self.hidden_size = hidden_size\n",
        "        self.num_layers = num_layers\n",
        "        self.lstm = nn.LSTM(input_size, hidden_size, num_layers, batch_first=True, dropout=0.3)  # add dropout\n",
        "        self.fc1 = nn.Linear(hidden_size, hidden_size)  # add new layer\n",
        "        self.bn = nn.BatchNorm1d(hidden_size)  # Batch normalization\n",
        "        self.fc2 = nn.Linear(hidden_size, output_size)\n",
        "\n",
        "    def forward(self, x):\n",
        "        h0 = torch.zeros(self.num_layers, x.size(0), self.hidden_size).to(x.device)\n",
        "        c0 = torch.zeros(self.num_layers, x.size(0), self.hidden_size).to(x.device)\n",
        "        out, _ = self.lstm(x, (h0, c0))\n",
        "        out = self.fc1(out[:, -1, :])  # add new layer\n",
        "        out = self.bn(out)  # Batch normalization\n",
        "        out = F.relu(out)  # Nonlinear activation function\n",
        "        out = self.fc2(out)\n",
        "        return out\n",
        "\n",
        "# Hyperparameter definition\n",
        "input_size = 10 # #feature\n",
        "hidden_size = 64\n",
        "output_size = 1\n",
        "num_layers = 2\n",
        "\n",
        "# Model initialization\n",
        "model = LSTMModel(input_size, hidden_size, output_size, num_layers)\n",
        "\n",
        "# Loss functions and optimizers\n",
        "criterion = nn.MSELoss()\n",
        "optimizer = torch.optim.Adam(model.parameters(), lr=0.01, weight_decay=0.005)  # Increased weight attenuation\n",
        "scheduler = torch.optim.lr_scheduler.StepLR(optimizer, step_size=30, gamma=0.1)\n",
        "\n",
        "\n",
        "\n",
        "# train code\n",
        "for epoch in range(300):  # epoch\n",
        "    model.zero_grad()\n",
        "    outputs = model(X_train_tensor)  # transfer to Tensor\n",
        "    loss = criterion(outputs, y_train_tensor)  # Use the target variable converted to Tensor\n",
        "    loss.backward()\n",
        "    optimizer.step()\n",
        "    scheduler.step()\n",
        "    train_mae = mean_absolute_error(y_train_tensor.detach().numpy(), outputs.detach().numpy())\n",
        "    train_rmse = mean_squared_error(y_train_tensor.detach().numpy(), outputs.detach().numpy(), squared=False)\n",
        "    train_mae_scores.append(train_mae)\n",
        "    train_rmse_scores.append(train_rmse)\n",
        "\n",
        "\n",
        "    # Calculate the verification set loss\n",
        "    model.eval()\n",
        "    with torch.no_grad():\n",
        "        val_outputs = model(X_val_tensor)\n",
        "        val_loss = criterion(val_outputs, y_val_tensor)\n",
        "\n",
        "        val_mae = mean_absolute_error(y_val_tensor.detach().numpy(), val_outputs.detach().numpy())\n",
        "        val_rmse = mean_squared_error(y_val_tensor.detach().numpy(), val_outputs.detach().numpy(), squared=False)\n",
        "        val_mae_scores.append(val_mae)\n",
        "        val_rmse_scores.append(val_rmse)\n",
        "\n",
        "    model.train()\n",
        "\n",
        "    # Saving loss value\n",
        "    train_losses.append(loss.item())\n",
        "    val_losses.append(val_loss.item())\n",
        "\n",
        "\n",
        "    if (epoch+1) % 30 == 0:  #\n",
        "        print(f'Epoch: {epoch+1}, Loss: {loss.item()}, Train MAE: {train_mae}, Val MAE: {val_mae}, Train RMSE: {train_rmse}, Val RMSE: {val_rmse}')\n",
        "\n",
        "plt.figure(figsize=(10, 5))\n",
        "plt.plot(train_losses, label='Training loss')\n",
        "plt.plot(val_losses, label='Validation loss')\n",
        "plt.xlabel('Epochs')\n",
        "plt.ylabel('Loss')\n",
        "plt.legend()\n",
        "plt.show()"
      ]
    },
    {
      "cell_type": "code",
      "execution_count": null,
      "metadata": {
        "colab": {
          "background_save": true
        },
        "id": "az-nkvz9zEwV"
      },
      "outputs": [],
      "source": [
        "torch.save(model.state_dict(), 'lstm_model.pth')"
      ]
    }
  ],
  "metadata": {
    "colab": {
      "provenance": [],
      "gpuType": "T4"
    },
    "kernelspec": {
      "display_name": "Python 3",
      "name": "python3"
    },
    "language_info": {
      "name": "python"
    }
  },
  "nbformat": 4,
  "nbformat_minor": 0
}
